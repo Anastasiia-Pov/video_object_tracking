{
 "cells": [
  {
   "cell_type": "code",
   "execution_count": 10,
   "metadata": {},
   "outputs": [],
   "source": [
    "from ultralytics import YOLO\n",
    "import cv2\n",
    "\n",
    "import torch\n",
    "\n",
    "import glob\n",
    "\n",
    "from tqdm import tqdm\n",
    "\n",
    "import os\n",
    "\n",
    "import json\n",
    "\n",
    "from PIL import Image"
   ]
  },
  {
   "cell_type": "code",
   "execution_count": 2,
   "metadata": {},
   "outputs": [
    {
     "name": "stdout",
     "output_type": "stream",
     "text": [
      "Downloading https://github.com/ultralytics/assets/releases/download/v0.0.0/yolov8n-seg.pt to 'yolov8n-seg.pt'...\n"
     ]
    },
    {
     "name": "stderr",
     "output_type": "stream",
     "text": [
      "100%|██████████| 6.73M/6.73M [00:00<00:00, 9.99MB/s]\n"
     ]
    }
   ],
   "source": [
    "model = YOLO('yolov8n-seg.pt')"
   ]
  },
  {
   "cell_type": "code",
   "execution_count": 4,
   "metadata": {},
   "outputs": [
    {
     "name": "stdout",
     "output_type": "stream",
     "text": [
      "\n",
      "image 1/1 c:\\Users\\mokhail\\Dropbox\\!work\\!develop\\yolov8_track\\bus.jpg: 640x480 4 persons, 1 bus, 1 skateboard, 60.2ms\n",
      "Speed: 9.0ms preprocess, 60.2ms inference, 26.1ms postprocess per image at shape (1, 3, 640, 480)\n"
     ]
    }
   ],
   "source": [
    "results = model('bus.jpg')"
   ]
  },
  {
   "cell_type": "code",
   "execution_count": null,
   "metadata": {},
   "outputs": [],
   "source": [
    "res = results[0]\n",
    "seg_img = res.plot()\n",
    "Image.fromarray(seg_img[..., ::-1])"
   ]
  },
  {
   "cell_type": "code",
   "execution_count": 12,
   "metadata": {},
   "outputs": [
    {
     "data": {
      "text/plain": [
       "ultralytics.engine.results.Results object with attributes:\n",
       "\n",
       "boxes: ultralytics.engine.results.Boxes object\n",
       "keypoints: None\n",
       "masks: ultralytics.engine.results.Masks object\n",
       "names: {0: 'person', 1: 'bicycle', 2: 'car', 3: 'motorcycle', 4: 'airplane', 5: 'bus', 6: 'train', 7: 'truck', 8: 'boat', 9: 'traffic light', 10: 'fire hydrant', 11: 'stop sign', 12: 'parking meter', 13: 'bench', 14: 'bird', 15: 'cat', 16: 'dog', 17: 'horse', 18: 'sheep', 19: 'cow', 20: 'elephant', 21: 'bear', 22: 'zebra', 23: 'giraffe', 24: 'backpack', 25: 'umbrella', 26: 'handbag', 27: 'tie', 28: 'suitcase', 29: 'frisbee', 30: 'skis', 31: 'snowboard', 32: 'sports ball', 33: 'kite', 34: 'baseball bat', 35: 'baseball glove', 36: 'skateboard', 37: 'surfboard', 38: 'tennis racket', 39: 'bottle', 40: 'wine glass', 41: 'cup', 42: 'fork', 43: 'knife', 44: 'spoon', 45: 'bowl', 46: 'banana', 47: 'apple', 48: 'sandwich', 49: 'orange', 50: 'broccoli', 51: 'carrot', 52: 'hot dog', 53: 'pizza', 54: 'donut', 55: 'cake', 56: 'chair', 57: 'couch', 58: 'potted plant', 59: 'bed', 60: 'dining table', 61: 'toilet', 62: 'tv', 63: 'laptop', 64: 'mouse', 65: 'remote', 66: 'keyboard', 67: 'cell phone', 68: 'microwave', 69: 'oven', 70: 'toaster', 71: 'sink', 72: 'refrigerator', 73: 'book', 74: 'clock', 75: 'vase', 76: 'scissors', 77: 'teddy bear', 78: 'hair drier', 79: 'toothbrush'}\n",
       "obb: None\n",
       "orig_img: array([[[122, 148, 172],\n",
       "        [120, 146, 170],\n",
       "        [125, 153, 177],\n",
       "        ...,\n",
       "        [157, 170, 184],\n",
       "        [158, 171, 185],\n",
       "        [158, 171, 185]],\n",
       "\n",
       "       [[127, 153, 177],\n",
       "        [124, 150, 174],\n",
       "        [127, 155, 179],\n",
       "        ...,\n",
       "        [158, 171, 185],\n",
       "        [159, 172, 186],\n",
       "        [159, 172, 186]],\n",
       "\n",
       "       [[128, 154, 178],\n",
       "        [126, 152, 176],\n",
       "        [126, 154, 178],\n",
       "        ...,\n",
       "        [158, 171, 185],\n",
       "        [158, 171, 185],\n",
       "        [158, 171, 185]],\n",
       "\n",
       "       ...,\n",
       "\n",
       "       [[185, 185, 191],\n",
       "        [182, 182, 188],\n",
       "        [179, 179, 185],\n",
       "        ...,\n",
       "        [114, 107, 112],\n",
       "        [115, 105, 111],\n",
       "        [116, 106, 112]],\n",
       "\n",
       "       [[157, 157, 163],\n",
       "        [180, 180, 186],\n",
       "        [185, 185, 191],\n",
       "        ...,\n",
       "        [107,  97, 103],\n",
       "        [102,  92,  98],\n",
       "        [108,  98, 104]],\n",
       "\n",
       "       [[112, 112, 118],\n",
       "        [160, 160, 166],\n",
       "        [169, 170, 174],\n",
       "        ...,\n",
       "        [ 99,  89,  95],\n",
       "        [ 96,  86,  92],\n",
       "        [102,  92,  98]]], dtype=uint8)\n",
       "orig_shape: (1080, 810)\n",
       "path: 'c:\\\\Users\\\\mokhail\\\\Dropbox\\\\!work\\\\!develop\\\\yolov8_track\\\\bus.jpg'\n",
       "probs: None\n",
       "save_dir: None\n",
       "speed: {'preprocess': 9.021997451782227, 'inference': 60.160160064697266, 'postprocess': 26.06964111328125}"
      ]
     },
     "execution_count": 12,
     "metadata": {},
     "output_type": "execute_result"
    }
   ],
   "source": [
    "res"
   ]
  },
  {
   "cell_type": "code",
   "execution_count": null,
   "metadata": {},
   "outputs": [],
   "source": []
  }
 ],
 "metadata": {
  "kernelspec": {
   "display_name": "yolov8",
   "language": "python",
   "name": "yolov8"
  },
  "language_info": {
   "codemirror_mode": {
    "name": "ipython",
    "version": 3
   },
   "file_extension": ".py",
   "mimetype": "text/x-python",
   "name": "python",
   "nbconvert_exporter": "python",
   "pygments_lexer": "ipython3",
   "version": "3.10.13"
  },
  "orig_nbformat": 4
 },
 "nbformat": 4,
 "nbformat_minor": 2
}
